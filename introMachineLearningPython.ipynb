{
  "nbformat": 4,
  "nbformat_minor": 0,
  "metadata": {
    "colab": {
      "name": "introMachineLearningPython.ipynb",
      "provenance": [],
      "collapsed_sections": [],
      "authorship_tag": "ABX9TyO1Xtvi305aXplhbcX9/j6u",
      "include_colab_link": true
    },
    "kernelspec": {
      "name": "python3",
      "display_name": "Python 3"
    },
    "language_info": {
      "name": "python"
    }
  },
  "cells": [
    {
      "cell_type": "markdown",
      "metadata": {
        "id": "view-in-github",
        "colab_type": "text"
      },
      "source": [
        "<a href=\"https://colab.research.google.com/github/amogh3892/3D-Biomedical-Image-Processing-Python-tutorial/blob/main/introMachineLearningPython.ipynb\" target=\"_parent\"><img src=\"https://colab.research.google.com/assets/colab-badge.svg\" alt=\"Open In Colab\"/></a>"
      ]
    },
    {
      "cell_type": "markdown",
      "metadata": {
        "id": "L7T7yz8iTC8T"
      },
      "source": [
        "# Introduction to Machine Learning using Python\n",
        "Biomedical Image Processing (EBME 361/461)\n",
        "\n",
        "**Amogh Hiremath**<br>\n",
        "*Graduate Research Assistant*<br> \n",
        "*Center of Computational Imaging and Personalized Diagnostics (CCIPD)*<br> \n",
        "*Case Western Reserve University*\n"
      ]
    },
    {
      "cell_type": "markdown",
      "metadata": {
        "id": "7OYw7yFteGyC"
      },
      "source": [
        "### Importing required libraries/modules\n",
        "\n",
        "The primary python package used for developing machine learning models in python is [scikit-learn](https://scikit-learn.org/stable/supervised_learning.html#supervised-learning)\n",
        "\n",
        "Libraries such as pandas and numpy are particularly used to handle datasets.\n"
      ]
    },
    {
      "cell_type": "code",
      "metadata": {
        "colab": {
          "base_uri": "https://localhost:8080/"
        },
        "id": "pECRrRKDTGf-",
        "outputId": "54aa573b-e24d-4a1f-f688-36d7195cb349"
      },
      "source": [
        "import pandas as pd \n",
        "import numpy as np \n",
        "import seaborn as sns\n",
        "%matplotlib inline \n",
        "import matplotlib.pyplot as plt\n",
        "!pip install statannot\n",
        "from statannot import add_stat_annotation\n",
        "from sklearn.preprocessing import StandardScaler,MinMaxScaler\n",
        "from sklearn.feature_selection import SelectKBest, chi2\n",
        "from sklearn.pipeline import make_pipeline\n",
        "from sklearn.linear_model import LogisticRegression\n",
        "from sklearn.model_selection import StratifiedKFold\n",
        "from sklearn.metrics import roc_auc_score, auc, plot_roc_curve"
      ],
      "execution_count": 1,
      "outputs": [
        {
          "output_type": "stream",
          "text": [
            "Requirement already satisfied: statannot in /usr/local/lib/python3.7/dist-packages (0.2.3)\n"
          ],
          "name": "stdout"
        }
      ]
    },
    {
      "cell_type": "markdown",
      "metadata": {
        "id": "HPA3SSgNflzi"
      },
      "source": [
        "### Reading and exploring the dataset."
      ]
    },
    {
      "cell_type": "code",
      "metadata": {
        "colab": {
          "base_uri": "https://localhost:8080/"
        },
        "id": "znsHKOZFfkGo",
        "outputId": "fa2f5af9-6cf9-4dce-9c1e-571664d8e33b"
      },
      "source": [
        "# Reading the csv file as a pandas dataframe\n",
        "df = pd.read_csv(\"prostateML.csv\")\n",
        "\n",
        "# Getting information of the dataset\n",
        "df.info()\n",
        "\n",
        "# Printing a few rows of the dataset\n",
        "print(df)"
      ],
      "execution_count": 2,
      "outputs": [
        {
          "output_type": "stream",
          "text": [
            "<class 'pandas.core.frame.DataFrame'>\n",
            "RangeIndex: 112 entries, 0 to 111\n",
            "Columns: 602 entries, PatientID to Label\n",
            "dtypes: float64(600), int64(1), object(1)\n",
            "memory usage: 526.9+ KB\n",
            "       PatientID   Feature_0   Feature_1  ...  Feature_598  Feature_599  Label\n",
            "0      Patient_0  252.070833  253.152778  ...     2.987543     2.987543      1\n",
            "1      Patient_1  149.848000  151.838222  ...     3.063422     3.063422      0\n",
            "2      Patient_2  152.319588  154.565865  ...     2.748509     2.748509      1\n",
            "3      Patient_3  175.255429  178.099908  ...     4.451399     4.451399      1\n",
            "4      Patient_4  136.816276  136.408745  ...     2.077021     2.077021      1\n",
            "..           ...         ...         ...  ...          ...          ...    ...\n",
            "107  Patient_107  189.620642  189.501851  ...     3.257004     3.257004      1\n",
            "108  Patient_108  173.139682  172.773258  ...     7.201139     7.201139      1\n",
            "109  Patient_109  205.135266  209.113795  ...     2.558845     2.558845      1\n",
            "110  Patient_110  170.725275  171.947327  ...     4.616491     4.616491      1\n",
            "111  Patient_111  199.093563  199.750375  ...     4.067475     4.067475      1\n",
            "\n",
            "[112 rows x 602 columns]\n"
          ],
          "name": "stdout"
        }
      ]
    },
    {
      "cell_type": "code",
      "metadata": {
        "colab": {
          "base_uri": "https://localhost:8080/",
          "height": 346
        },
        "id": "JQ24qZ82f4jG",
        "outputId": "239a39e9-2fa4-417f-ad2f-2bed7cccd0b7"
      },
      "source": [
        "# Basic statistics of the dataset\n",
        "df.describe()"
      ],
      "execution_count": 3,
      "outputs": [
        {
          "output_type": "execute_result",
          "data": {
            "text/html": [
              "<div>\n",
              "<style scoped>\n",
              "    .dataframe tbody tr th:only-of-type {\n",
              "        vertical-align: middle;\n",
              "    }\n",
              "\n",
              "    .dataframe tbody tr th {\n",
              "        vertical-align: top;\n",
              "    }\n",
              "\n",
              "    .dataframe thead th {\n",
              "        text-align: right;\n",
              "    }\n",
              "</style>\n",
              "<table border=\"1\" class=\"dataframe\">\n",
              "  <thead>\n",
              "    <tr style=\"text-align: right;\">\n",
              "      <th></th>\n",
              "      <th>Feature_0</th>\n",
              "      <th>Feature_1</th>\n",
              "      <th>Feature_2</th>\n",
              "      <th>Feature_3</th>\n",
              "      <th>Feature_4</th>\n",
              "      <th>Feature_5</th>\n",
              "      <th>Feature_6</th>\n",
              "      <th>Feature_7</th>\n",
              "      <th>Feature_8</th>\n",
              "      <th>Feature_9</th>\n",
              "      <th>Feature_10</th>\n",
              "      <th>Feature_11</th>\n",
              "      <th>Feature_12</th>\n",
              "      <th>Feature_13</th>\n",
              "      <th>Feature_14</th>\n",
              "      <th>Feature_15</th>\n",
              "      <th>Feature_16</th>\n",
              "      <th>Feature_17</th>\n",
              "      <th>Feature_18</th>\n",
              "      <th>Feature_19</th>\n",
              "      <th>Feature_20</th>\n",
              "      <th>Feature_21</th>\n",
              "      <th>Feature_22</th>\n",
              "      <th>Feature_23</th>\n",
              "      <th>Feature_24</th>\n",
              "      <th>Feature_25</th>\n",
              "      <th>Feature_26</th>\n",
              "      <th>Feature_27</th>\n",
              "      <th>Feature_28</th>\n",
              "      <th>Feature_29</th>\n",
              "      <th>Feature_30</th>\n",
              "      <th>Feature_31</th>\n",
              "      <th>Feature_32</th>\n",
              "      <th>Feature_33</th>\n",
              "      <th>Feature_34</th>\n",
              "      <th>Feature_35</th>\n",
              "      <th>Feature_36</th>\n",
              "      <th>Feature_37</th>\n",
              "      <th>Feature_38</th>\n",
              "      <th>Feature_39</th>\n",
              "      <th>...</th>\n",
              "      <th>Feature_561</th>\n",
              "      <th>Feature_562</th>\n",
              "      <th>Feature_563</th>\n",
              "      <th>Feature_564</th>\n",
              "      <th>Feature_565</th>\n",
              "      <th>Feature_566</th>\n",
              "      <th>Feature_567</th>\n",
              "      <th>Feature_568</th>\n",
              "      <th>Feature_569</th>\n",
              "      <th>Feature_570</th>\n",
              "      <th>Feature_571</th>\n",
              "      <th>Feature_572</th>\n",
              "      <th>Feature_573</th>\n",
              "      <th>Feature_574</th>\n",
              "      <th>Feature_575</th>\n",
              "      <th>Feature_576</th>\n",
              "      <th>Feature_577</th>\n",
              "      <th>Feature_578</th>\n",
              "      <th>Feature_579</th>\n",
              "      <th>Feature_580</th>\n",
              "      <th>Feature_581</th>\n",
              "      <th>Feature_582</th>\n",
              "      <th>Feature_583</th>\n",
              "      <th>Feature_584</th>\n",
              "      <th>Feature_585</th>\n",
              "      <th>Feature_586</th>\n",
              "      <th>Feature_587</th>\n",
              "      <th>Feature_588</th>\n",
              "      <th>Feature_589</th>\n",
              "      <th>Feature_590</th>\n",
              "      <th>Feature_591</th>\n",
              "      <th>Feature_592</th>\n",
              "      <th>Feature_593</th>\n",
              "      <th>Feature_594</th>\n",
              "      <th>Feature_595</th>\n",
              "      <th>Feature_596</th>\n",
              "      <th>Feature_597</th>\n",
              "      <th>Feature_598</th>\n",
              "      <th>Feature_599</th>\n",
              "      <th>Label</th>\n",
              "    </tr>\n",
              "  </thead>\n",
              "  <tbody>\n",
              "    <tr>\n",
              "      <th>count</th>\n",
              "      <td>112.000000</td>\n",
              "      <td>112.000000</td>\n",
              "      <td>112.000000</td>\n",
              "      <td>112.000000</td>\n",
              "      <td>112.000000</td>\n",
              "      <td>112.000000</td>\n",
              "      <td>112.000000</td>\n",
              "      <td>112.000000</td>\n",
              "      <td>112.000000</td>\n",
              "      <td>112.000000</td>\n",
              "      <td>112.000000</td>\n",
              "      <td>112.000000</td>\n",
              "      <td>112.000000</td>\n",
              "      <td>112.000000</td>\n",
              "      <td>112.000000</td>\n",
              "      <td>112.000000</td>\n",
              "      <td>112.000000</td>\n",
              "      <td>112.000000</td>\n",
              "      <td>112.000000</td>\n",
              "      <td>112.000000</td>\n",
              "      <td>112.000000</td>\n",
              "      <td>112.000000</td>\n",
              "      <td>112.000000</td>\n",
              "      <td>112.000000</td>\n",
              "      <td>112.000000</td>\n",
              "      <td>112.000000</td>\n",
              "      <td>112.000000</td>\n",
              "      <td>112.000000</td>\n",
              "      <td>112.000000</td>\n",
              "      <td>112.000000</td>\n",
              "      <td>112.000000</td>\n",
              "      <td>112.000000</td>\n",
              "      <td>112.000000</td>\n",
              "      <td>112.000000</td>\n",
              "      <td>112.000000</td>\n",
              "      <td>112.000000</td>\n",
              "      <td>112.000000</td>\n",
              "      <td>112.000000</td>\n",
              "      <td>112.000000</td>\n",
              "      <td>112.000000</td>\n",
              "      <td>...</td>\n",
              "      <td>112.000000</td>\n",
              "      <td>112.000000</td>\n",
              "      <td>112.000000</td>\n",
              "      <td>112.000000</td>\n",
              "      <td>112.000000</td>\n",
              "      <td>112.000000</td>\n",
              "      <td>112.000000</td>\n",
              "      <td>112.000000</td>\n",
              "      <td>112.000000</td>\n",
              "      <td>112.000000</td>\n",
              "      <td>112.000000</td>\n",
              "      <td>112.000000</td>\n",
              "      <td>112.000000</td>\n",
              "      <td>112.000000</td>\n",
              "      <td>112.000000</td>\n",
              "      <td>112.000000</td>\n",
              "      <td>112.000000</td>\n",
              "      <td>112.000000</td>\n",
              "      <td>112.000000</td>\n",
              "      <td>112.000000</td>\n",
              "      <td>112.000000</td>\n",
              "      <td>112.000000</td>\n",
              "      <td>112.000000</td>\n",
              "      <td>112.000000</td>\n",
              "      <td>112.000000</td>\n",
              "      <td>112.000000</td>\n",
              "      <td>112.000000</td>\n",
              "      <td>112.000000</td>\n",
              "      <td>112.000000</td>\n",
              "      <td>112.000000</td>\n",
              "      <td>112.000000</td>\n",
              "      <td>112.000000</td>\n",
              "      <td>112.000000</td>\n",
              "      <td>112.000000</td>\n",
              "      <td>112.000000</td>\n",
              "      <td>112.000000</td>\n",
              "      <td>112.000000</td>\n",
              "      <td>112.000000</td>\n",
              "      <td>112.000000</td>\n",
              "      <td>112.000000</td>\n",
              "    </tr>\n",
              "    <tr>\n",
              "      <th>mean</th>\n",
              "      <td>170.639837</td>\n",
              "      <td>172.115453</td>\n",
              "      <td>171.638178</td>\n",
              "      <td>12.188853</td>\n",
              "      <td>36.006176</td>\n",
              "      <td>-0.094190</td>\n",
              "      <td>-3.864805</td>\n",
              "      <td>-2.960625</td>\n",
              "      <td>-2.819907</td>\n",
              "      <td>-13.973596</td>\n",
              "      <td>-2.022771</td>\n",
              "      <td>-5.281601</td>\n",
              "      <td>0.011916</td>\n",
              "      <td>-0.487270</td>\n",
              "      <td>13.327963</td>\n",
              "      <td>-0.497970</td>\n",
              "      <td>-0.082685</td>\n",
              "      <td>-0.649870</td>\n",
              "      <td>5.790634</td>\n",
              "      <td>0.029048</td>\n",
              "      <td>406.762828</td>\n",
              "      <td>0.272850</td>\n",
              "      <td>0.205292</td>\n",
              "      <td>-0.268605</td>\n",
              "      <td>0.914435</td>\n",
              "      <td>64.200810</td>\n",
              "      <td>605.188218</td>\n",
              "      <td>4.673276</td>\n",
              "      <td>12.638955</td>\n",
              "      <td>222.110986</td>\n",
              "      <td>3.842582</td>\n",
              "      <td>3.622017</td>\n",
              "      <td>0.110765</td>\n",
              "      <td>7.334133</td>\n",
              "      <td>0.418697</td>\n",
              "      <td>0.274798</td>\n",
              "      <td>-0.110709</td>\n",
              "      <td>0.611186</td>\n",
              "      <td>53.793486</td>\n",
              "      <td>12.233809</td>\n",
              "      <td>...</td>\n",
              "      <td>3.142383</td>\n",
              "      <td>7.264404</td>\n",
              "      <td>3.123885</td>\n",
              "      <td>10.818531</td>\n",
              "      <td>3.172116</td>\n",
              "      <td>4.498158</td>\n",
              "      <td>9.241344</td>\n",
              "      <td>3.086970</td>\n",
              "      <td>2.656349</td>\n",
              "      <td>6.296282</td>\n",
              "      <td>8.193802</td>\n",
              "      <td>2.656290</td>\n",
              "      <td>7.189296</td>\n",
              "      <td>4.426067</td>\n",
              "      <td>8.051134</td>\n",
              "      <td>3.011920</td>\n",
              "      <td>8.777528</td>\n",
              "      <td>2.703223</td>\n",
              "      <td>4.031880</td>\n",
              "      <td>10.669333</td>\n",
              "      <td>2.854491</td>\n",
              "      <td>2.528825</td>\n",
              "      <td>4.298969</td>\n",
              "      <td>6.327670</td>\n",
              "      <td>2.568997</td>\n",
              "      <td>5.334358</td>\n",
              "      <td>3.191805</td>\n",
              "      <td>6.692326</td>\n",
              "      <td>2.876170</td>\n",
              "      <td>6.709276</td>\n",
              "      <td>2.563214</td>\n",
              "      <td>3.523991</td>\n",
              "      <td>7.549143</td>\n",
              "      <td>2.765084</td>\n",
              "      <td>3.236914</td>\n",
              "      <td>3.236914</td>\n",
              "      <td>3.236914</td>\n",
              "      <td>3.236914</td>\n",
              "      <td>3.236914</td>\n",
              "      <td>0.669643</td>\n",
              "    </tr>\n",
              "    <tr>\n",
              "      <th>std</th>\n",
              "      <td>33.623240</td>\n",
              "      <td>34.091421</td>\n",
              "      <td>33.971171</td>\n",
              "      <td>3.960293</td>\n",
              "      <td>11.576630</td>\n",
              "      <td>28.187023</td>\n",
              "      <td>22.956547</td>\n",
              "      <td>26.928408</td>\n",
              "      <td>27.470964</td>\n",
              "      <td>70.182825</td>\n",
              "      <td>83.899341</td>\n",
              "      <td>74.154913</td>\n",
              "      <td>3.551095</td>\n",
              "      <td>2.888848</td>\n",
              "      <td>4.460918</td>\n",
              "      <td>3.458413</td>\n",
              "      <td>2.826687</td>\n",
              "      <td>4.223441</td>\n",
              "      <td>0.250538</td>\n",
              "      <td>0.008295</td>\n",
              "      <td>105.285873</td>\n",
              "      <td>0.043294</td>\n",
              "      <td>0.045008</td>\n",
              "      <td>0.014115</td>\n",
              "      <td>0.018970</td>\n",
              "      <td>7.510556</td>\n",
              "      <td>128.972596</td>\n",
              "      <td>0.212345</td>\n",
              "      <td>2.008537</td>\n",
              "      <td>54.599986</td>\n",
              "      <td>0.259970</td>\n",
              "      <td>0.395368</td>\n",
              "      <td>0.037531</td>\n",
              "      <td>5.264252</td>\n",
              "      <td>0.083092</td>\n",
              "      <td>0.050762</td>\n",
              "      <td>0.021031</td>\n",
              "      <td>0.082441</td>\n",
              "      <td>13.645964</td>\n",
              "      <td>10.191291</td>\n",
              "      <td>...</td>\n",
              "      <td>0.662899</td>\n",
              "      <td>4.473159</td>\n",
              "      <td>1.456646</td>\n",
              "      <td>12.690162</td>\n",
              "      <td>0.652917</td>\n",
              "      <td>3.511315</td>\n",
              "      <td>10.057616</td>\n",
              "      <td>0.732276</td>\n",
              "      <td>0.556482</td>\n",
              "      <td>3.251037</td>\n",
              "      <td>9.302971</td>\n",
              "      <td>0.887660</td>\n",
              "      <td>3.591148</td>\n",
              "      <td>1.742131</td>\n",
              "      <td>3.888187</td>\n",
              "      <td>1.293249</td>\n",
              "      <td>9.474873</td>\n",
              "      <td>0.549937</td>\n",
              "      <td>2.575240</td>\n",
              "      <td>23.515952</td>\n",
              "      <td>0.959293</td>\n",
              "      <td>0.586754</td>\n",
              "      <td>2.019886</td>\n",
              "      <td>7.843846</td>\n",
              "      <td>0.826460</td>\n",
              "      <td>3.521737</td>\n",
              "      <td>1.072255</td>\n",
              "      <td>4.951928</td>\n",
              "      <td>1.169245</td>\n",
              "      <td>6.058150</td>\n",
              "      <td>0.565256</td>\n",
              "      <td>1.846784</td>\n",
              "      <td>12.450744</td>\n",
              "      <td>0.904112</td>\n",
              "      <td>1.678831</td>\n",
              "      <td>1.678831</td>\n",
              "      <td>1.678831</td>\n",
              "      <td>1.678831</td>\n",
              "      <td>1.678831</td>\n",
              "      <td>0.472456</td>\n",
              "    </tr>\n",
              "    <tr>\n",
              "      <th>min</th>\n",
              "      <td>97.494746</td>\n",
              "      <td>97.763589</td>\n",
              "      <td>97.600506</td>\n",
              "      <td>5.837088</td>\n",
              "      <td>17.065772</td>\n",
              "      <td>-75.536444</td>\n",
              "      <td>-79.086508</td>\n",
              "      <td>-65.589333</td>\n",
              "      <td>-99.985986</td>\n",
              "      <td>-238.778571</td>\n",
              "      <td>-230.333778</td>\n",
              "      <td>-173.121333</td>\n",
              "      <td>-13.338839</td>\n",
              "      <td>-9.801984</td>\n",
              "      <td>6.569165</td>\n",
              "      <td>-10.370667</td>\n",
              "      <td>-11.176799</td>\n",
              "      <td>-14.467794</td>\n",
              "      <td>5.140977</td>\n",
              "      <td>0.016600</td>\n",
              "      <td>211.396781</td>\n",
              "      <td>0.188789</td>\n",
              "      <td>0.111119</td>\n",
              "      <td>-0.299598</td>\n",
              "      <td>0.866030</td>\n",
              "      <td>47.407184</td>\n",
              "      <td>369.306348</td>\n",
              "      <td>4.195649</td>\n",
              "      <td>7.371406</td>\n",
              "      <td>127.432117</td>\n",
              "      <td>3.114469</td>\n",
              "      <td>2.357615</td>\n",
              "      <td>0.053299</td>\n",
              "      <td>1.453930</td>\n",
              "      <td>0.208893</td>\n",
              "      <td>0.180785</td>\n",
              "      <td>-0.169718</td>\n",
              "      <td>0.402284</td>\n",
              "      <td>26.044137</td>\n",
              "      <td>1.760782</td>\n",
              "      <td>...</td>\n",
              "      <td>1.824485</td>\n",
              "      <td>1.475765</td>\n",
              "      <td>1.389269</td>\n",
              "      <td>1.774737</td>\n",
              "      <td>2.137152</td>\n",
              "      <td>1.841189</td>\n",
              "      <td>1.807875</td>\n",
              "      <td>1.806813</td>\n",
              "      <td>1.717781</td>\n",
              "      <td>2.181534</td>\n",
              "      <td>1.561655</td>\n",
              "      <td>1.320574</td>\n",
              "      <td>2.253123</td>\n",
              "      <td>2.081941</td>\n",
              "      <td>2.536896</td>\n",
              "      <td>1.388704</td>\n",
              "      <td>1.697929</td>\n",
              "      <td>1.643432</td>\n",
              "      <td>1.394747</td>\n",
              "      <td>1.429696</td>\n",
              "      <td>1.269181</td>\n",
              "      <td>1.401720</td>\n",
              "      <td>1.727183</td>\n",
              "      <td>1.313143</td>\n",
              "      <td>1.245494</td>\n",
              "      <td>2.098137</td>\n",
              "      <td>1.809688</td>\n",
              "      <td>2.135016</td>\n",
              "      <td>1.239906</td>\n",
              "      <td>1.716330</td>\n",
              "      <td>1.553044</td>\n",
              "      <td>1.255273</td>\n",
              "      <td>1.350764</td>\n",
              "      <td>1.242727</td>\n",
              "      <td>1.367640</td>\n",
              "      <td>1.367640</td>\n",
              "      <td>1.367640</td>\n",
              "      <td>1.367640</td>\n",
              "      <td>1.367640</td>\n",
              "      <td>0.000000</td>\n",
              "    </tr>\n",
              "    <tr>\n",
              "      <th>25%</th>\n",
              "      <td>145.110757</td>\n",
              "      <td>146.512208</td>\n",
              "      <td>145.555309</td>\n",
              "      <td>9.598128</td>\n",
              "      <td>28.404268</td>\n",
              "      <td>-15.763131</td>\n",
              "      <td>-16.895880</td>\n",
              "      <td>-18.540023</td>\n",
              "      <td>-14.409899</td>\n",
              "      <td>-51.049219</td>\n",
              "      <td>-48.221549</td>\n",
              "      <td>-48.642224</td>\n",
              "      <td>-1.500063</td>\n",
              "      <td>-2.115487</td>\n",
              "      <td>10.385486</td>\n",
              "      <td>-2.175673</td>\n",
              "      <td>-1.324342</td>\n",
              "      <td>-2.851896</td>\n",
              "      <td>5.622744</td>\n",
              "      <td>0.023591</td>\n",
              "      <td>341.473815</td>\n",
              "      <td>0.247726</td>\n",
              "      <td>0.171841</td>\n",
              "      <td>-0.277975</td>\n",
              "      <td>0.900706</td>\n",
              "      <td>59.242122</td>\n",
              "      <td>526.454102</td>\n",
              "      <td>4.528296</td>\n",
              "      <td>11.218025</td>\n",
              "      <td>186.844237</td>\n",
              "      <td>3.671335</td>\n",
              "      <td>3.408731</td>\n",
              "      <td>0.085441</td>\n",
              "      <td>3.959543</td>\n",
              "      <td>0.368157</td>\n",
              "      <td>0.238117</td>\n",
              "      <td>-0.122495</td>\n",
              "      <td>0.559365</td>\n",
              "      <td>43.283798</td>\n",
              "      <td>5.928752</td>\n",
              "      <td>...</td>\n",
              "      <td>2.698169</td>\n",
              "      <td>3.772512</td>\n",
              "      <td>2.232410</td>\n",
              "      <td>3.586628</td>\n",
              "      <td>2.724690</td>\n",
              "      <td>2.482167</td>\n",
              "      <td>3.391688</td>\n",
              "      <td>2.627812</td>\n",
              "      <td>2.270961</td>\n",
              "      <td>3.785725</td>\n",
              "      <td>2.832737</td>\n",
              "      <td>2.120264</td>\n",
              "      <td>4.901289</td>\n",
              "      <td>3.252363</td>\n",
              "      <td>5.612558</td>\n",
              "      <td>2.203479</td>\n",
              "      <td>3.067635</td>\n",
              "      <td>2.331427</td>\n",
              "      <td>2.358013</td>\n",
              "      <td>2.908197</td>\n",
              "      <td>2.224005</td>\n",
              "      <td>2.150266</td>\n",
              "      <td>2.883181</td>\n",
              "      <td>2.489795</td>\n",
              "      <td>2.066212</td>\n",
              "      <td>3.383982</td>\n",
              "      <td>2.482097</td>\n",
              "      <td>3.876018</td>\n",
              "      <td>2.169097</td>\n",
              "      <td>2.803687</td>\n",
              "      <td>2.202603</td>\n",
              "      <td>2.202961</td>\n",
              "      <td>2.548029</td>\n",
              "      <td>2.116716</td>\n",
              "      <td>2.319688</td>\n",
              "      <td>2.319688</td>\n",
              "      <td>2.319688</td>\n",
              "      <td>2.319688</td>\n",
              "      <td>2.319688</td>\n",
              "      <td>0.000000</td>\n",
              "    </tr>\n",
              "    <tr>\n",
              "      <th>50%</th>\n",
              "      <td>167.819388</td>\n",
              "      <td>169.661159</td>\n",
              "      <td>169.223971</td>\n",
              "      <td>11.138492</td>\n",
              "      <td>33.211085</td>\n",
              "      <td>-1.888621</td>\n",
              "      <td>-4.761350</td>\n",
              "      <td>-5.063975</td>\n",
              "      <td>0.433792</td>\n",
              "      <td>-16.059955</td>\n",
              "      <td>-6.838766</td>\n",
              "      <td>-13.952216</td>\n",
              "      <td>0.239727</td>\n",
              "      <td>-0.598478</td>\n",
              "      <td>12.125160</td>\n",
              "      <td>-0.597397</td>\n",
              "      <td>0.099761</td>\n",
              "      <td>-0.667186</td>\n",
              "      <td>5.838038</td>\n",
              "      <td>0.027446</td>\n",
              "      <td>393.805657</td>\n",
              "      <td>0.265916</td>\n",
              "      <td>0.200462</td>\n",
              "      <td>-0.269318</td>\n",
              "      <td>0.918931</td>\n",
              "      <td>63.788287</td>\n",
              "      <td>590.667056</td>\n",
              "      <td>4.707516</td>\n",
              "      <td>12.591379</td>\n",
              "      <td>214.578228</td>\n",
              "      <td>3.873744</td>\n",
              "      <td>3.658573</td>\n",
              "      <td>0.102882</td>\n",
              "      <td>5.426453</td>\n",
              "      <td>0.418771</td>\n",
              "      <td>0.270541</td>\n",
              "      <td>-0.109487</td>\n",
              "      <td>0.617230</td>\n",
              "      <td>53.784366</td>\n",
              "      <td>8.560761</td>\n",
              "      <td>...</td>\n",
              "      <td>3.102772</td>\n",
              "      <td>6.559586</td>\n",
              "      <td>2.638233</td>\n",
              "      <td>5.938964</td>\n",
              "      <td>3.028165</td>\n",
              "      <td>3.171770</td>\n",
              "      <td>5.513420</td>\n",
              "      <td>2.925683</td>\n",
              "      <td>2.541723</td>\n",
              "      <td>5.499396</td>\n",
              "      <td>4.896738</td>\n",
              "      <td>2.407665</td>\n",
              "      <td>6.156572</td>\n",
              "      <td>4.041030</td>\n",
              "      <td>7.297508</td>\n",
              "      <td>2.636176</td>\n",
              "      <td>5.290331</td>\n",
              "      <td>2.600764</td>\n",
              "      <td>2.953895</td>\n",
              "      <td>5.062623</td>\n",
              "      <td>2.596221</td>\n",
              "      <td>2.440084</td>\n",
              "      <td>3.691120</td>\n",
              "      <td>3.794215</td>\n",
              "      <td>2.390194</td>\n",
              "      <td>4.554059</td>\n",
              "      <td>2.868118</td>\n",
              "      <td>5.352042</td>\n",
              "      <td>2.567535</td>\n",
              "      <td>4.569268</td>\n",
              "      <td>2.468476</td>\n",
              "      <td>2.928682</td>\n",
              "      <td>4.218538</td>\n",
              "      <td>2.600594</td>\n",
              "      <td>2.712789</td>\n",
              "      <td>2.712789</td>\n",
              "      <td>2.712789</td>\n",
              "      <td>2.712789</td>\n",
              "      <td>2.712789</td>\n",
              "      <td>1.000000</td>\n",
              "    </tr>\n",
              "    <tr>\n",
              "      <th>75%</th>\n",
              "      <td>191.866493</td>\n",
              "      <td>196.841367</td>\n",
              "      <td>196.703891</td>\n",
              "      <td>13.625890</td>\n",
              "      <td>40.357891</td>\n",
              "      <td>12.702554</td>\n",
              "      <td>9.939436</td>\n",
              "      <td>6.395729</td>\n",
              "      <td>12.987905</td>\n",
              "      <td>23.613459</td>\n",
              "      <td>30.041446</td>\n",
              "      <td>22.288407</td>\n",
              "      <td>1.972133</td>\n",
              "      <td>1.230476</td>\n",
              "      <td>15.233363</td>\n",
              "      <td>1.261649</td>\n",
              "      <td>1.352933</td>\n",
              "      <td>1.440377</td>\n",
              "      <td>5.957013</td>\n",
              "      <td>0.032462</td>\n",
              "      <td>461.288423</td>\n",
              "      <td>0.300540</td>\n",
              "      <td>0.231778</td>\n",
              "      <td>-0.260396</td>\n",
              "      <td>0.927613</td>\n",
              "      <td>67.929313</td>\n",
              "      <td>671.063339</td>\n",
              "      <td>4.808039</td>\n",
              "      <td>14.225066</td>\n",
              "      <td>243.326400</td>\n",
              "      <td>4.006053</td>\n",
              "      <td>3.869792</td>\n",
              "      <td>0.123259</td>\n",
              "      <td>8.889440</td>\n",
              "      <td>0.470223</td>\n",
              "      <td>0.302068</td>\n",
              "      <td>-0.096231</td>\n",
              "      <td>0.662096</td>\n",
              "      <td>62.106883</td>\n",
              "      <td>14.106216</td>\n",
              "      <td>...</td>\n",
              "      <td>3.451961</td>\n",
              "      <td>9.514599</td>\n",
              "      <td>3.547076</td>\n",
              "      <td>10.633215</td>\n",
              "      <td>3.409155</td>\n",
              "      <td>5.242946</td>\n",
              "      <td>11.696590</td>\n",
              "      <td>3.445311</td>\n",
              "      <td>2.951612</td>\n",
              "      <td>7.904561</td>\n",
              "      <td>10.358690</td>\n",
              "      <td>2.830464</td>\n",
              "      <td>8.635766</td>\n",
              "      <td>5.025326</td>\n",
              "      <td>9.775335</td>\n",
              "      <td>3.426557</td>\n",
              "      <td>11.645880</td>\n",
              "      <td>2.936509</td>\n",
              "      <td>4.804797</td>\n",
              "      <td>10.790494</td>\n",
              "      <td>3.170407</td>\n",
              "      <td>2.762576</td>\n",
              "      <td>5.577715</td>\n",
              "      <td>7.516120</td>\n",
              "      <td>2.803299</td>\n",
              "      <td>6.072991</td>\n",
              "      <td>3.564060</td>\n",
              "      <td>8.504346</td>\n",
              "      <td>3.275211</td>\n",
              "      <td>7.932605</td>\n",
              "      <td>2.801177</td>\n",
              "      <td>4.230159</td>\n",
              "      <td>8.056162</td>\n",
              "      <td>3.268248</td>\n",
              "      <td>3.699333</td>\n",
              "      <td>3.699333</td>\n",
              "      <td>3.699333</td>\n",
              "      <td>3.699333</td>\n",
              "      <td>3.699333</td>\n",
              "      <td>1.000000</td>\n",
              "    </tr>\n",
              "    <tr>\n",
              "      <th>max</th>\n",
              "      <td>252.070833</td>\n",
              "      <td>253.152778</td>\n",
              "      <td>252.584259</td>\n",
              "      <td>28.199334</td>\n",
              "      <td>78.340619</td>\n",
              "      <td>106.753754</td>\n",
              "      <td>81.384347</td>\n",
              "      <td>111.667778</td>\n",
              "      <td>86.640097</td>\n",
              "      <td>242.102027</td>\n",
              "      <td>335.528528</td>\n",
              "      <td>337.730000</td>\n",
              "      <td>9.463556</td>\n",
              "      <td>10.113557</td>\n",
              "      <td>31.740051</td>\n",
              "      <td>14.806807</td>\n",
              "      <td>9.166667</td>\n",
              "      <td>14.440440</td>\n",
              "      <td>6.234707</td>\n",
              "      <td>0.057577</td>\n",
              "      <td>924.369466</td>\n",
              "      <td>0.393373</td>\n",
              "      <td>0.342829</td>\n",
              "      <td>-0.223125</td>\n",
              "      <td>0.949148</td>\n",
              "      <td>80.924761</td>\n",
              "      <td>1157.260816</td>\n",
              "      <td>5.096952</td>\n",
              "      <td>19.558051</td>\n",
              "      <td>513.983981</td>\n",
              "      <td>4.387853</td>\n",
              "      <td>4.437881</td>\n",
              "      <td>0.253866</td>\n",
              "      <td>31.191250</td>\n",
              "      <td>0.612730</td>\n",
              "      <td>0.430726</td>\n",
              "      <td>-0.067106</td>\n",
              "      <td>0.800440</td>\n",
              "      <td>90.818225</td>\n",
              "      <td>63.201914</td>\n",
              "      <td>...</td>\n",
              "      <td>6.572443</td>\n",
              "      <td>25.470363</td>\n",
              "      <td>11.270607</td>\n",
              "      <td>74.611458</td>\n",
              "      <td>5.477049</td>\n",
              "      <td>25.744176</td>\n",
              "      <td>60.867448</td>\n",
              "      <td>5.761448</td>\n",
              "      <td>4.773879</td>\n",
              "      <td>16.027428</td>\n",
              "      <td>68.051372</td>\n",
              "      <td>6.050413</td>\n",
              "      <td>20.952628</td>\n",
              "      <td>11.679852</td>\n",
              "      <td>23.029917</td>\n",
              "      <td>8.680052</td>\n",
              "      <td>56.374870</td>\n",
              "      <td>4.522841</td>\n",
              "      <td>15.485695</td>\n",
              "      <td>238.550024</td>\n",
              "      <td>6.970855</td>\n",
              "      <td>4.887546</td>\n",
              "      <td>11.059427</td>\n",
              "      <td>69.397988</td>\n",
              "      <td>6.670468</td>\n",
              "      <td>30.956020</td>\n",
              "      <td>6.863316</td>\n",
              "      <td>44.381292</td>\n",
              "      <td>8.635023</td>\n",
              "      <td>35.973761</td>\n",
              "      <td>4.808981</td>\n",
              "      <td>11.425502</td>\n",
              "      <td>115.681710</td>\n",
              "      <td>7.477606</td>\n",
              "      <td>12.411624</td>\n",
              "      <td>12.411624</td>\n",
              "      <td>12.411624</td>\n",
              "      <td>12.411624</td>\n",
              "      <td>12.411624</td>\n",
              "      <td>1.000000</td>\n",
              "    </tr>\n",
              "  </tbody>\n",
              "</table>\n",
              "<p>8 rows × 601 columns</p>\n",
              "</div>"
            ],
            "text/plain": [
              "        Feature_0   Feature_1   Feature_2  ...  Feature_598  Feature_599       Label\n",
              "count  112.000000  112.000000  112.000000  ...   112.000000   112.000000  112.000000\n",
              "mean   170.639837  172.115453  171.638178  ...     3.236914     3.236914    0.669643\n",
              "std     33.623240   34.091421   33.971171  ...     1.678831     1.678831    0.472456\n",
              "min     97.494746   97.763589   97.600506  ...     1.367640     1.367640    0.000000\n",
              "25%    145.110757  146.512208  145.555309  ...     2.319688     2.319688    0.000000\n",
              "50%    167.819388  169.661159  169.223971  ...     2.712789     2.712789    1.000000\n",
              "75%    191.866493  196.841367  196.703891  ...     3.699333     3.699333    1.000000\n",
              "max    252.070833  253.152778  252.584259  ...    12.411624    12.411624    1.000000\n",
              "\n",
              "[8 rows x 601 columns]"
            ]
          },
          "metadata": {
            "tags": []
          },
          "execution_count": 3
        }
      ]
    },
    {
      "cell_type": "code",
      "metadata": {
        "colab": {
          "base_uri": "https://localhost:8080/"
        },
        "id": "dSUEX-IYntsu",
        "outputId": "3063b5f0-cf80-4dba-8910-6a229fa4c6af"
      },
      "source": [
        "# Class distribution in the dataset\n",
        "print(df.groupby('Label').size())"
      ],
      "execution_count": 4,
      "outputs": [
        {
          "output_type": "stream",
          "text": [
            "Label\n",
            "0    37\n",
            "1    75\n",
            "dtype: int64\n"
          ],
          "name": "stdout"
        }
      ]
    },
    {
      "cell_type": "code",
      "metadata": {
        "colab": {
          "base_uri": "https://localhost:8080/"
        },
        "id": "c_VtGY3tisB8",
        "outputId": "1c687995-8179-4242-d94b-2cc6ed51bc8f"
      },
      "source": [
        "# Accessing a particular row; use iloc\n",
        "print(df.iloc[0])"
      ],
      "execution_count": 5,
      "outputs": [
        {
          "output_type": "stream",
          "text": [
            "PatientID      Patient_0\n",
            "Feature_0        252.071\n",
            "Feature_1        253.153\n",
            "Feature_2        252.584\n",
            "Feature_3        9.46021\n",
            "                 ...    \n",
            "Feature_596      2.98754\n",
            "Feature_597      2.98754\n",
            "Feature_598      2.98754\n",
            "Feature_599      2.98754\n",
            "Label                  1\n",
            "Name: 0, Length: 602, dtype: object\n"
          ],
          "name": "stdout"
        }
      ]
    },
    {
      "cell_type": "code",
      "metadata": {
        "colab": {
          "base_uri": "https://localhost:8080/"
        },
        "id": "PmtSE2OujDTD",
        "outputId": "e0e1ed61-3f55-43fe-b5ef-4dc6fae84dbb"
      },
      "source": [
        "# Accessing specific columns in the dataframe;  \n",
        "print(df[[\"PatientID\",\"Feature_0\"]])\n"
      ],
      "execution_count": 6,
      "outputs": [
        {
          "output_type": "stream",
          "text": [
            "       PatientID   Feature_0\n",
            "0      Patient_0  252.070833\n",
            "1      Patient_1  149.848000\n",
            "2      Patient_2  152.319588\n",
            "3      Patient_3  175.255429\n",
            "4      Patient_4  136.816276\n",
            "..           ...         ...\n",
            "107  Patient_107  189.620642\n",
            "108  Patient_108  173.139682\n",
            "109  Patient_109  205.135266\n",
            "110  Patient_110  170.725275\n",
            "111  Patient_111  199.093563\n",
            "\n",
            "[112 rows x 2 columns]\n"
          ],
          "name": "stdout"
        }
      ]
    },
    {
      "cell_type": "code",
      "metadata": {
        "colab": {
          "base_uri": "https://localhost:8080/"
        },
        "id": "KlweXr1rg8c-",
        "outputId": "8bd79609-4d88-4fa5-810e-416acd2fc242"
      },
      "source": [
        "# Example of filtering your dataset\n",
        "# For example, let's say you only want to consider rows/ here patients with Feature_0 value > 150\n",
        "\n",
        "print(f\"Total rows beforing filtering: {df.shape}\")\n",
        "\n",
        "filtereddf = df[df[\"Feature_0\"] > 150]\n",
        "\n",
        "print(f\"Total rows after filtering: {filtereddf.shape}\")\n",
        "\n",
        "print(filtereddf)"
      ],
      "execution_count": 7,
      "outputs": [
        {
          "output_type": "stream",
          "text": [
            "Total rows beforing filtering: (112, 602)\n",
            "Total rows after filtering: (78, 602)\n",
            "       PatientID   Feature_0   Feature_1  ...  Feature_598  Feature_599  Label\n",
            "0      Patient_0  252.070833  253.152778  ...     2.987543     2.987543      1\n",
            "2      Patient_2  152.319588  154.565865  ...     2.748509     2.748509      1\n",
            "3      Patient_3  175.255429  178.099908  ...     4.451399     4.451399      1\n",
            "5      Patient_5  183.958609  184.192748  ...     4.085701     4.085701      1\n",
            "6      Patient_6  194.611111  200.821502  ...     3.100332     3.100332      1\n",
            "..           ...         ...         ...  ...          ...          ...    ...\n",
            "107  Patient_107  189.620642  189.501851  ...     3.257004     3.257004      1\n",
            "108  Patient_108  173.139682  172.773258  ...     7.201139     7.201139      1\n",
            "109  Patient_109  205.135266  209.113795  ...     2.558845     2.558845      1\n",
            "110  Patient_110  170.725275  171.947327  ...     4.616491     4.616491      1\n",
            "111  Patient_111  199.093563  199.750375  ...     4.067475     4.067475      1\n",
            "\n",
            "[78 rows x 602 columns]\n"
          ],
          "name": "stdout"
        }
      ]
    },
    {
      "cell_type": "code",
      "metadata": {
        "colab": {
          "base_uri": "https://localhost:8080/",
          "height": 498
        },
        "id": "OmZ404YUlW-q",
        "outputId": "7fbf97f5-d3ad-46b1-a6f7-60cf1a4cf117"
      },
      "source": [
        "# Let's try to look at the histogram 5 different features\n",
        "df5 = df[[\"Feature_10\",\"Feature_20\",\"Feature_30\",\"Feature_40\",\"Feature_50\"]]\n",
        "df5.hist(figsize=(10, 8), bins=50, xlabelsize=8, ylabelsize=8);"
      ],
      "execution_count": 8,
      "outputs": [
        {
          "output_type": "display_data",
          "data": {
            "image/png": "[encoded data removed]",
            "text/plain": [
              "<Figure size 720x576 with 6 Axes>"
            ]
          },
          "metadata": {
            "tags": [],
            "needs_background": "light"
          }
        }
      ]
    },
    {
      "cell_type": "markdown",
      "metadata": {
        "id": "1t2UD2A1v38w"
      },
      "source": [
        "Feature selection "
      ]
    },
    {
      "cell_type": "code",
      "metadata": {
        "colab": {
          "base_uri": "https://localhost:8080/",
          "height": 315
        },
        "id": "S9FDc4wnmAUu",
        "outputId": "debfb87a-0387-4a72-ffdd-b0f90c252336"
      },
      "source": [
        "# Looking at correlation between the features.\n",
        "\n",
        "corr = df5.corr()\n",
        "\n",
        "sns.heatmap(corr[(corr >= 0.5) | (corr <= -0.4)], \n",
        "            cmap='jet', vmax=1.0, vmin=-1.0, linewidths=0.1,\n",
        "            annot=True, annot_kws={\"size\": 8}, square=True);"
      ],
      "execution_count": 9,
      "outputs": [
        {
          "output_type": "display_data",
          "data": {
            "image/png": "[encoded data removed]",
            "text/plain": [
              "<Figure size 432x288 with 2 Axes>"
            ]
          },
          "metadata": {
            "tags": [],
            "needs_background": "light"
          }
        }
      ]
    },
    {
      "cell_type": "code",
      "metadata": {
        "colab": {
          "base_uri": "https://localhost:8080/",
          "height": 561
        },
        "id": "5vSAAcS2nsic",
        "outputId": "3b439b05-48e4-4d9d-9d90-515906ad4c3a"
      },
      "source": [
        "# Boxplots: looking at the distrbutions of the features  \n",
        "df.Label = df.Label.astype(str)\n",
        "\n",
        "plt.figure(figsize=(25,7))\n",
        "\n",
        "x = \"Label\"\n",
        "ys = [\"Feature_1\", \"Feature_20\", \"Feature_30\", \"Feature_40\", \"Feature_50\"]\n",
        "\n",
        "plt.subplot(151)\n",
        "ax1 = sns.boxplot(x = \"Label\", y = ys[0], notch=True, data=df)\n",
        "add_stat_annotation(ax1, data=df, x=x, y=ys[0],\n",
        "                    box_pairs = [(\"0\",\"1\")],\n",
        "                    test='t-test_ind', text_format='full', loc='inside', verbose=2)\n",
        "\n",
        "\n",
        "plt.subplot(152)\n",
        "ax2 = sns.boxplot(x = \"Label\", y = ys[1], notch=True, data=df)\n",
        "add_stat_annotation(ax2, data=df, x=x, y=ys[1],\n",
        "                    box_pairs = [(\"0\",\"1\")],\n",
        "                    test='t-test_ind', text_format='full', loc='inside', verbose=2)\n",
        "\n",
        "\n",
        "plt.subplot(153)\n",
        "ax3 = sns.boxplot(x = \"Label\", y = ys[2], notch=True, data=df)\n",
        "add_stat_annotation(ax3, data=df, x=x, y=ys[2],\n",
        "                    box_pairs = [(\"0\",\"1\")],\n",
        "                    test='t-test_ind', text_format='full', loc='inside', verbose=2)\n",
        "\n",
        "\n",
        "plt.subplot(154)\n",
        "ax4 = sns.boxplot(x = \"Label\", y = ys[3], notch=True, data=df)\n",
        "add_stat_annotation(ax4, data=df, x=x, y=ys[3],\n",
        "                    box_pairs = [(\"0\",\"1\")],\n",
        "                    test='t-test_ind', text_format='full', loc='inside', verbose=2)\n",
        "\n",
        "plt.subplot(155)\n",
        "ax5 = sns.boxplot(x = \"Label\", y = ys[4], notch=True, data=df)\n",
        "add_stat_annotation(ax5, data=df, x=x, y=ys[4],\n",
        "                    box_pairs = [(\"0\",\"1\")],\n",
        "                    test='t-test_ind', text_format='full', loc='inside', verbose=2)"
      ],
      "execution_count": 12,
      "outputs": [
        {
          "output_type": "stream",
          "text": [
            "1 v.s. 0: t-test independent samples with Bonferroni correction, P_val=1.330e-03 stat=3.294e+00\n",
            "1 v.s. 0: t-test independent samples with Bonferroni correction, P_val=2.774e-01 stat=1.092e+00\n",
            "1 v.s. 0: t-test independent samples with Bonferroni correction, P_val=7.634e-01 stat=-3.018e-01\n",
            "1 v.s. 0: t-test independent samples with Bonferroni correction, P_val=5.222e-01 stat=6.419e-01\n",
            "1 v.s. 0: t-test independent samples with Bonferroni correction, P_val=5.446e-01 stat=6.078e-01\n"
          ],
          "name": "stdout"
        },
        {
          "output_type": "execute_result",
          "data": {
            "text/plain": [
              "(<matplotlib.axes._subplots.AxesSubplot at 0x7fe1e40f19d0>,\n",
              " [<statannot.StatResult.StatResult at 0x7fe1e4151050>])"
            ]
          },
          "metadata": {
            "tags": []
          },
          "execution_count": 12
        },
        {
          "output_type": "display_data",
          "data": {
            "image/png": "[encoded data removed]",
            "text/plain": [
              "<Figure size 1800x504 with 5 Axes>"
            ]
          },
          "metadata": {
            "tags": [],
            "needs_background": "light"
          }
        }
      ]
    },
    {
      "cell_type": "markdown",
      "metadata": {
        "id": "BJqU783zo9_q"
      },
      "source": [
        "### Feature standardization/ normalization\n",
        "\n",
        "Some of the classifiers do not behave as expected if the features are normalized since they expect a more of less normally distributed data. \n",
        "\n",
        "Therefore we normally ignore the shape of the distribution and just transform the data to center it by removing the mean value of each feature, then scale it by dividing non-constant features by their standard deviation.\n"
      ]
    },
    {
      "cell_type": "code",
      "metadata": {
        "colab": {
          "base_uri": "https://localhost:8080/"
        },
        "id": "t82octMmprQ7",
        "outputId": "0fcd2829-a870-41f1-bca4-5bbf1eb2d88f"
      },
      "source": [
        "# splitting the dataframe df into features, lables and patientids\n",
        "\n",
        "if \"PatientID\" in df.columns:\n",
        "  patientids = df.pop(\"PatientID\")\n",
        "\n",
        "if \"Label\" in df.columns:\n",
        "  labels = df.pop(\"Label\")\n",
        "\n",
        "# normalizing the features by scikit-learn's StandardScaler\n",
        "scaler = StandardScaler()\n",
        "scaledFeatures = scaler.fit_transform(df.values)\n",
        "\n",
        "print(f\"Mean of first column: {scaledFeatures[:,0].mean()}, and standard deviation of first column: {scaledFeatures[:,0].std()}\")\n",
        "\n",
        "\n",
        "# Now we rescale these features between 0 and 1. \n",
        "scaler2 = MinMaxScaler()\n",
        "scaled2Features = scaler2.fit_transform(scaledFeatures)"
      ],
      "execution_count": 13,
      "outputs": [
        {
          "output_type": "stream",
          "text": [
            "Mean of first column: -4.599495387732792e-16, and standard deviation of first column: 1.0\n"
          ],
          "name": "stdout"
        }
      ]
    },
    {
      "cell_type": "markdown",
      "metadata": {
        "id": "zig0YhvEZcqM"
      },
      "source": [
        "### Feature selection: Selecting K best features based on univariate analysis. \n",
        "\n",
        "There are several feature [selection methods](https://scikit-learn.org/stable/modules/feature_selection.html). Here we perform a simple Univariate feature selection to demonstrate the process of feature selection.  \n",
        "\n",
        "Let's say we want to select 10 best features based on the univariate analysis."
      ]
    },
    {
      "cell_type": "code",
      "metadata": {
        "colab": {
          "base_uri": "https://localhost:8080/"
        },
        "id": "x9Cra8xCkk1o",
        "outputId": "4c6f0b33-43ca-4d10-8a19-aefbfc40dc3f"
      },
      "source": [
        "# selecting 10 best features based on chi square test \n",
        "selector = SelectKBest(chi2, k=10)\n",
        "\n",
        "print(f\"Number of features before feature selection: {scaledFeatures.shape[1]}\")\n",
        "\n",
        "selectedFeatures = selector.fit_transform(scaled2Features,labels)\n",
        "\n",
        "print(f\"Number of features after feature selection: {selectedFeatures.shape[1]}\")"
      ],
      "execution_count": 14,
      "outputs": [
        {
          "output_type": "stream",
          "text": [
            "Number of features before feature selection: 600\n",
            "Number of features after feature selection: 10\n"
          ],
          "name": "stdout"
        }
      ]
    },
    {
      "cell_type": "code",
      "metadata": {
        "colab": {
          "base_uri": "https://localhost:8080/",
          "height": 510
        },
        "id": "vSxHLXKxmiDH",
        "outputId": "3980c8d8-9116-4744-b100-ba73fbac1e41"
      },
      "source": [
        "# Now let's look at the distribution of couple of these features as before\n",
        "selectedFeatColumns = [f\"SelectedFeat_{i}\" for i in range(10)]\n",
        "selecteddf = pd.DataFrame(selectedFeatures,columns=selectedFeatColumns)\n",
        "selecteddf[\"Label\"] = labels\n",
        "\n",
        "plt.figure(figsize=(15,7))\n",
        "\n",
        "plt.subplot(121)\n",
        "ax1 = sns.boxplot(x = \"Label\", y = \"SelectedFeat_0\", notch=True, data=selecteddf)\n",
        "add_stat_annotation(ax1, data=selecteddf, x=x, y=\"SelectedFeat_0\",\n",
        "                    box_pairs = [(\"0\",\"1\")],\n",
        "                    test='t-test_ind', text_format='full', loc='inside', verbose=2)\n",
        "\n",
        "plt.subplot(122)\n",
        "ax2 = sns.boxplot(x = \"Label\", y = \"SelectedFeat_1\", notch=True, data=selecteddf)\n",
        "add_stat_annotation(ax2, data=selecteddf, x=x, y=\"SelectedFeat_1\",\n",
        "                    box_pairs = [(\"0\",\"1\")],\n",
        "                    test='t-test_ind', text_format='full', loc='inside', verbose=2)\n"
      ],
      "execution_count": 15,
      "outputs": [
        {
          "output_type": "stream",
          "text": [
            "1 v.s. 0: t-test independent samples with Bonferroni correction, P_val=1.025e-03 stat=3.374e+00\n",
            "1 v.s. 0: t-test independent samples with Bonferroni correction, P_val=1.330e-03 stat=3.294e+00\n"
          ],
          "name": "stdout"
        },
        {
          "output_type": "execute_result",
          "data": {
            "text/plain": [
              "(<matplotlib.axes._subplots.AxesSubplot at 0x7fe1e45e44d0>,\n",
              " [<statannot.StatResult.StatResult at 0x7fe1d96fc610>])"
            ]
          },
          "metadata": {
            "tags": []
          },
          "execution_count": 15
        },
        {
          "output_type": "display_data",
          "data": {
            "image/png": "[encoded data removed]",
            "text/plain": [
              "<Figure size 1080x504 with 2 Axes>"
            ]
          },
          "metadata": {
            "tags": [],
            "needs_background": "light"
          }
        }
      ]
    },
    {
      "cell_type": "markdown",
      "metadata": {
        "id": "Mon4_iwMn7ws"
      },
      "source": [
        "***We can notice that these features are discriminable and are found to be statistically signficant between the classes (p<0.05)***\n",
        "\n",
        "\n"
      ]
    },
    {
      "cell_type": "markdown",
      "metadata": {
        "id": "NTtBG-71WNQA"
      },
      "source": [
        "### Machine learning pipeline\n",
        "\n",
        "Now let's try to use these pre-processing steps to create a machine learning piple. \n",
        "\n",
        "Here, we do a 10-fold cross validation on the dataset to demonstrate the results. \n"
      ]
    },
    {
      "cell_type": "code",
      "metadata": {
        "colab": {
          "base_uri": "https://localhost:8080/",
          "height": 621
        },
        "id": "gFiI-6kUr_sQ",
        "outputId": "bc660217-53b2-4c27-8e0c-366dab2e8f4c"
      },
      "source": [
        "\n",
        "# Partition the data in k folds; by making sure the split is stratified according to the class labels\n",
        "skf = StratifiedKFold(n_splits=10)\n",
        "\n",
        "X = df.values\n",
        "y = labels \n",
        "\n",
        "\n",
        "tprs = []\n",
        "aucs = []\n",
        "mean_fpr = np.linspace(0, 1, 100)\n",
        "\n",
        "fig, ax = plt.subplots(figsize=(10,10))\n",
        "\n",
        "# looping over different cross validation folds. \n",
        "for i,(train_index, test_index) in enumerate(skf.split(X, y)):\n",
        "\n",
        "  X_train, X_test = X[train_index], X[test_index]\n",
        "  y_train, y_test = y[train_index], y[test_index]\n",
        "\n",
        "\n",
        "  # difining the classifier along with the pre-processing pipeline.\n",
        "  clf = make_pipeline(StandardScaler(),\n",
        "                MinMaxScaler(),\n",
        "                SelectKBest(chi2,k=30),\n",
        "                LogisticRegression())\n",
        "\n",
        "  # training the classifier on the training set\n",
        "  clf.fit(X_train,y_train)\n",
        "\n",
        "\n",
        "  # evaluating the classifier on the test set and plotting ROC curve \n",
        "  viz = plot_roc_curve(clf, X_test, y_test,\n",
        "                        name=f'ROC fold {i}',\n",
        "                        alpha=0.3, lw=1, ax=ax)\n",
        "  \n",
        "\n",
        "  interp_tpr = np.interp(mean_fpr, viz.fpr, viz.tpr)\n",
        "  interp_tpr[0] = 0.0\n",
        "  tprs.append(interp_tpr)\n",
        "  aucs.append(viz.roc_auc)\n",
        "\n",
        "\n",
        "ax.plot([0, 1], [0, 1], linestyle='--', lw=2, color='r',\n",
        "        label='Chance', alpha=.8)\n",
        "\n",
        "mean_tpr = np.mean(tprs, axis=0)\n",
        "mean_tpr[-1] = 1.0\n",
        "mean_auc = auc(mean_fpr, mean_tpr)\n",
        "std_auc = np.std(aucs)\n",
        "ax.plot(mean_fpr, mean_tpr, color='b',\n",
        "        label=r'Mean ROC (AUC = %0.2f $\\pm$ %0.2f)' % (mean_auc, std_auc),\n",
        "        lw=2, alpha=.8)\n",
        "\n",
        "std_tpr = np.std(tprs, axis=0)\n",
        "tprs_upper = np.minimum(mean_tpr + std_tpr, 1)\n",
        "tprs_lower = np.maximum(mean_tpr - std_tpr, 0)\n",
        "ax.fill_between(mean_fpr, tprs_lower, tprs_upper, color='grey', alpha=.2,\n",
        "                label=r'$\\pm$ 1 std. dev.')\n",
        "\n",
        "ax.set(xlim=[-0.05, 1.05], ylim=[-0.05, 1.05],\n",
        "       title=\"ROC Curve\")\n",
        "ax.legend(loc=\"lower right\")\n",
        "plt.show()"
      ],
      "execution_count": 18,
      "outputs": [
        {
          "output_type": "display_data",
          "data": {
            "image/png": "[encoded data removed]",
            "text/plain": [
              "<Figure size 720x720 with 1 Axes>"
            ]
          },
          "metadata": {
            "tags": [],
            "needs_background": "light"
          }
        }
      ]
    },
    {
      "cell_type": "code",
      "metadata": {
        "id": "ClnVDSAJzwqs"
      },
      "source": [
        ""
      ],
      "execution_count": null,
      "outputs": []
    }
  ]
}