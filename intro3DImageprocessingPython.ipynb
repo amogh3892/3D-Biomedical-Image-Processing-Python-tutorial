{
  "nbformat": 4,
  "nbformat_minor": 0,
  "metadata": {
    "colab": {
      "name": "intro3DImageprocessingPython.ipynb",
      "provenance": [],
      "collapsed_sections": [],
      "authorship_tag": "ABX9TyM0Z0khZBLRZLhII5Zf1tOy",
      "include_colab_link": true
    },
    "kernelspec": {
      "name": "python3",
      "display_name": "Python 3"
    },
    "language_info": {
      "name": "python"
    }
  },
  "cells": [
    {
      "cell_type": "markdown",
      "metadata": {
        "id": "view-in-github",
        "colab_type": "text"
      },
      "source": [
        "<a href=\"https://colab.research.google.com/github/amogh3892/3D-Biomedical-Image-Processing-Python-tutorial/blob/main/intro3DImageprocessingPython.ipynb\" target=\"_parent\"><img src=\"https://colab.research.google.com/assets/colab-badge.svg\" alt=\"Open In Colab\"/></a>"
      ]
    },
    {
      "cell_type": "markdown",
      "metadata": {
        "id": "z9r11YX5P5Cz"
      },
      "source": [
        "# Introduction to 3D Image Processing using Python\n",
        "Biomedical Image Processing (EBME 361/461)\n",
        "\n",
        "**Amogh Hiremath**<br>\n",
        "*Graduate Research Assistant*<br> \n",
        "*Center of Computational Imaging and Personalized Diagnostics (CCIPD)*<br> \n",
        "*Case Western Reserve University*\n"
      ]
    },
    {
      "cell_type": "markdown",
      "metadata": {
        "id": "1igw289cRQat"
      },
      "source": [
        "### Importing required libraries/modules\n",
        "\n",
        "ITK is a cross-platform, open-source application development framework widely used for image processing tasks including image segmentation and image registration etc. SimpleITK provides a simplified interface to ITK in a variety of languages. Here we are using it in python.\n",
        "\n",
        "For complete documentation, refer to [SimpleITK](https://simpleitk.readthedocs.io/en/master/gettingStarted.**html**)\n",
        "\n",
        "Matplotlib library is used to plot/ display images."
      ]
    },
    {
      "cell_type": "code",
      "metadata": {
        "id": "rx88Nyh07C5u"
      },
      "source": [
        "!pip install SimpleITK\n",
        "!pip install pyradiomics\n",
        "import SimpleITK as sitk\n",
        "%matplotlib inline\n",
        "import matplotlib.pyplot as plt\n",
        "from matplotlib.pyplot import cm\n",
        "import numpy as np \n",
        "from skimage import measure\n",
        "from skimage.measure import regionprops\n",
        "from radiomics import featureextractor\n",
        "import os \n",
        "import six"
      ],
      "execution_count": null,
      "outputs": []
    },
    {
      "cell_type": "markdown",
      "metadata": {
        "id": "ibFcyCv7P9Lj"
      },
      "source": [
        "### Reading 3D Volumes of prostate MRI\n",
        "\n",
        "The SimpleITK ReadImage function supports reading of numerous image formats including but not limited to .nii, .nii.gz, .mha, .mhd, .nrrd ....\n",
        "\n",
        "Reading a 3D Volume of prostate MRI.."
      ]
    },
    {
      "cell_type": "code",
      "metadata": {
        "id": "1pl93WnBRugA"
      },
      "source": [
        "img = sitk.ReadImage(f\"T2W.nii.gz\")"
      ],
      "execution_count": null,
      "outputs": []
    },
    {
      "cell_type": "markdown",
      "metadata": {
        "id": "wVrwy1-CZUsQ"
      },
      "source": [
        "### Fundemental Attributes of SimpleITK image\n",
        "\n",
        "Some of the important attributes; \n",
        "\n",
        "1. Origin (vector like type) - location in the world coordinate system of the voxel with all zero indexes.\n",
        "2. Spacing (vector like type) - distance between pixels along each of the dimensions.\n",
        "3. Size (vector like type) - number of pixels in each dimension.\n",
        "4. Direction cosine matrix (vector like type representing matrix in row major order) - direction of each of the axes corresponding to the matrix columns.\n",
        "\n",
        "\n",
        "For detailed documentation, please visit [Fundamental Concepts](https://simpleitk.readthedocs.io/en/master/fundamentalConcepts.html)\n"
      ]
    },
    {
      "cell_type": "code",
      "metadata": {
        "id": "pC2A67OpYLTy"
      },
      "source": [
        "print(f\"Image origin: {img.GetOrigin()}\")\n",
        "print(f\"Image spacing: {img.GetSpacing()}\")\n",
        "print(f\"Image size: {img.GetSize()}\")\n",
        "print(f\"Direction cosine matrix: {img.GetDirection()}\")"
      ],
      "execution_count": null,
      "outputs": []
    },
    {
      "cell_type": "markdown",
      "metadata": {
        "id": "wnf4jy-_bN1B"
      },
      "source": [
        "### Other attributes of SimpleITK image \n",
        "\n",
        "1. Dimension - Dimension of image</font>\n",
        "2. Pixel Type - Type of pixel/voxel (uint, float ? ... )\n",
        "\n"
      ]
    },
    {
      "cell_type": "code",
      "metadata": {
        "id": "WZ7yMF_ibB9o"
      },
      "source": [
        "print(f\"Dimension: {img.GetDimension()}\")\n",
        "print(f\"Pixel type: {img.GetPixelIDTypeAsString()}\")"
      ],
      "execution_count": null,
      "outputs": []
    },
    {
      "cell_type": "markdown",
      "metadata": {
        "id": "7KJbRe4Hd-ws"
      },
      "source": [
        "### Accessing pixel values in the image\n",
        "\n",
        "For ex. Accessing pixel at the co-ordinate (150,150,10)"
      ]
    },
    {
      "cell_type": "code",
      "metadata": {
        "id": "WY_kA5CRbrlE"
      },
      "source": [
        "print(f\"Value of pixel/voxel at co-ordinate (150,150,10): {img.GetPixel(150,150,10)}\")"
      ],
      "execution_count": null,
      "outputs": []
    },
    {
      "cell_type": "markdown",
      "metadata": {
        "id": "ytu_FtBWkfC3"
      },
      "source": [
        "### Displaying Image \n",
        "\n",
        "Displaying a particular 2D axial slice in the 3D volume. \n",
        "The best way to view images in python would be by converting the SimpleITK image to a numpy array. Then matplotlib library could be used to further display the images. \n",
        "\n",
        "Note 1: Changing from SimpleITK image to numpy image transposes the image. i.e (x,y,z) coordinates will become (z,y,x) in the numpy image.\n",
        "\n",
        "Note 2: Changing from SimpleITK image to numpy image will lead to loss in the header information such as spacing, origin, direction ect. So converting back to SimpleITK image from numpy image will set the attributes to default values. "
      ]
    },
    {
      "cell_type": "code",
      "metadata": {
        "id": "xc7FfIW0fPgD"
      },
      "source": [
        "# Converting SimpleITK image to numpy image using sitk.GetArrayFromImage() function\n",
        "imgarr = sitk.GetArrayFromImage(img)\n",
        "\n",
        "# Accessing 150,150,10 pixel from the numpy array. This time the numpy array is transposed. So, we have to access the pixels by (10, 150, 150)\n",
        "print(f\"Value of pixel/voxel at co-ordinate (150,150,10): {imgarr[10,150,150]}\")"
      ],
      "execution_count": null,
      "outputs": []
    },
    {
      "cell_type": "code",
      "metadata": {
        "id": "-GMiipk1mBXn"
      },
      "source": [
        "# Displaying the 10th axial slice of the 3D volume. \n",
        "\n",
        "fig = plt.figure(figsize=(8,8))\n",
        "plt.imshow(imgarr[10],cmap='gray')\n",
        "plt.axis('off')"
      ],
      "execution_count": null,
      "outputs": []
    },
    {
      "cell_type": "code",
      "metadata": {
        "id": "8ifUiozViGh0"
      },
      "source": [
        "# Note 2: Changing back to SimpleITK image from numpy will lead to loss of header information.\n",
        "# sitk.GetImageFromArray() function can be used to convert from numpy array back to SimpleITK image.\n",
        "imgFromNumpy = sitk.GetImageFromArray(imgarr)\n",
        "\n",
        "print(f\"Image origin: {imgFromNumpy.GetOrigin()} !!\")\n",
        "print(f\"Image spacing: {imgFromNumpy.GetSpacing()} !!\")\n",
        "print(f\"Direction cosine matrix: {imgFromNumpy.GetDirection()} !!\")"
      ],
      "execution_count": null,
      "outputs": []
    },
    {
      "cell_type": "markdown",
      "metadata": {
        "id": "kh2H4aYSoHYJ"
      },
      "source": [
        "**Note: Make sure all header information is reset after converting from SimpleITK image to numpy image**"
      ]
    },
    {
      "cell_type": "code",
      "metadata": {
        "id": "AlsfsAynmztF"
      },
      "source": [
        "# Resetting all the header information after converting from numpy \n",
        "imgFromNumpy.SetOrigin(img.GetOrigin())\n",
        "imgFromNumpy.SetDirection(img.GetDirection())\n",
        "imgFromNumpy.SetSpacing(img.GetSpacing())\n",
        "\n",
        "print(f\"Image origin: {imgFromNumpy.GetOrigin()}\")\n",
        "print(f\"Image spacing: {imgFromNumpy.GetSpacing()}\")\n",
        "print(f\"Direction cosine matrix: {imgFromNumpy.GetDirection()}\")"
      ],
      "execution_count": null,
      "outputs": []
    },
    {
      "cell_type": "markdown",
      "metadata": {
        "id": "BMYqnAh20tR3"
      },
      "source": [
        "### Resampling 3D Volume\n",
        "\n",
        "Before analysing or extracting any features from an image, images have to be converted into a same resolution for the analysis to be uniform and make sense accross the dataset.\n",
        "\n",
        "The following resampleimage function could be used to resample the image to a particular resolution. For ex. here we are resampling the image to a spacing of (1, 1 , 1) in x, y and z directions respectively. \n"
      ]
    },
    {
      "cell_type": "code",
      "metadata": {
        "id": "PQ2SlrvhqAaA"
      },
      "source": [
        "# Resampling images to a particular resolution \n",
        "def resampleimage(image, spacing, origin, interpolator = sitk.sitkLinear):\n",
        "  \"\"\"\n",
        "  Resamples the image given spacing and the origin with a given interpolator \n",
        "  Default interpolator is Linear Interpolator ~ sitk.sitkLinear \n",
        "  Other interpolators : sitk.sitkNearestNeighbor , sitk.sitkBSpline,  sitk.sitkGaussian\n",
        "\n",
        "  \"\"\"\n",
        "  new_size = tuple([int((image.GetSize()[i]*image.GetSpacing()[i])/spacing[i]) for i in range(len(spacing))])\n",
        "\n",
        "  resampler = sitk.ResampleImageFilter()\n",
        "  resampler.SetInterpolator(interpolator)\n",
        "  resampler.SetOutputDirection(image.GetDirection())\n",
        "  resampler.SetOutputOrigin(origin)\n",
        "  resampler.SetOutputSpacing(spacing)\n",
        "  resampler.SetSize(new_size)\n",
        "\n",
        "  resampled = resampler.Execute(image)\n",
        "\n",
        "  return resampled \n",
        "\n",
        "\n",
        "resampledImg = resampleimage(img,spacing = (1,1,1),origin= img.GetOrigin(), interpolator=sitk.sitkLinear)\n",
        "\n",
        "\n",
        "print(f\"Spacing before resampling: {img.GetSpacing()}\")\n",
        "print(f\"Size before resampling: {img.GetSize()}\")\n",
        "print(f\"Spacing after resampling: {resampledImg.GetSpacing()}\")\n",
        "print(f\"Size after resampling: {resampledImg.GetSize()}\")"
      ],
      "execution_count": null,
      "outputs": []
    },
    {
      "cell_type": "markdown",
      "metadata": {
        "id": "D6quFq7T12gq"
      },
      "source": [
        "Downsampling the image from 0.5 in x and y direction to 1 reduced the size of the image to half in those respective dimensions. \n",
        "\n",
        "Upsampling the image from 3mm spacing in z direction to 1mm spacing increased the number of slices by 3.  "
      ]
    },
    {
      "cell_type": "markdown",
      "metadata": {
        "id": "acua9aAJLA70"
      },
      "source": [
        "### Overlaying prostate gland contour on the T2W MRI Image. \n",
        "\n",
        "PM.nii.gz provides the delineation of the prostate gland. Below code shows how to overlay the prostate mask on the T2W MRI image using matplotlib.\n"
      ]
    },
    {
      "cell_type": "code",
      "metadata": {
        "id": "cW1Rxkq8LxLr"
      },
      "source": [
        "def overlay_mask(orgimg,masks,colors=None):\n",
        "    \"\"\"\n",
        "    orgimg: The original image as numpy array (2D)\n",
        "    masks: List of masks as numpy array (2D)\n",
        "    colors: List of respective colors to plot\n",
        "\n",
        "    \"\"\"\n",
        "\n",
        "    plt.figure(figsize=(5,5))\n",
        "    plt.imshow(orgimg, cmap = 'gray')\n",
        "\n",
        "\n",
        "    if colors is None:\n",
        "      colors=cm.rainbow(np.linspace(0,1,len(masks)))\n",
        "\n",
        "    for i,mask in enumerate(masks): \n",
        "      color = colors[i]\n",
        "      contours = measure.find_contours(mask, 0)\n",
        "      for n, contour in enumerate(contours):\n",
        "          plt.plot(contour[:, 1], contour[:, 0], linewidth=2, color=color)\n",
        "\n",
        "    plt.xticks([])\n",
        "    plt.yticks([])\n",
        "\n",
        "    return plt"
      ],
      "execution_count": null,
      "outputs": []
    },
    {
      "cell_type": "code",
      "metadata": {
        "id": "D9toHLi41kV-"
      },
      "source": [
        "# Reading the prostate mask and lesion annotation\n",
        "pm = sitk.ReadImage(\"PM.nii.gz\")\n",
        "ls = sitk.ReadImage(\"LS1.nii.gz\")\n",
        "\n",
        "\n",
        "# Converting the prostate mask and lesion annotation SimpleITK image to numpy array\n",
        "pmarr = sitk.GetArrayFromImage(pm)\n",
        "lsarr = sitk.GetArrayFromImage(ls)\n",
        "\n",
        "\n",
        "# Plotting the overlay of mask on the T2W MRI image (8th slice)\n",
        "slcno = 8 \n",
        "plt = overlay_mask(imgarr[slcno],[pmarr[slcno],lsarr[slcno]],[\"lime\",\"yellow\"])\n"
      ],
      "execution_count": null,
      "outputs": []
    },
    {
      "cell_type": "markdown",
      "metadata": {
        "id": "HNHfVN5BXAaW"
      },
      "source": [
        "### Patch extraction \n",
        "Extracting patches based on the bounding box of the mask. This is important if we are only trying to analyze the region of interest. "
      ]
    },
    {
      "cell_type": "code",
      "metadata": {
        "id": "OQH29bhoPybb"
      },
      "source": [
        "# Extracting the bounding box of the prostate in the 8th axial slice (Can also be done similar for a 3D bounding box.)\n",
        "props = regionprops(pmarr[8])\n",
        "starty, startx, endy, endx = props[0].bbox\n",
        "\n",
        "print(f\"Bounding box co-ordinates: {props[0].bbox}\")\n",
        "\n",
        "# Extracting the patch based on the bounding box. \n",
        "imgarrPatch = imgarr[:,starty:endy,startx:endx]\n",
        "pmarrPatch = pmarr[:,starty:endy,startx:endx] \n",
        "lsarrPatch = lsarr[:,starty:endy,startx:endx]\n",
        "\n",
        "slcno = 8 \n",
        "plt = overlay_mask(imgarrPatch[slcno],[pmarrPatch[slcno],lsarrPatch[slcno]],[\"lime\",\"yellow\"])"
      ],
      "execution_count": null,
      "outputs": []
    },
    {
      "cell_type": "markdown",
      "metadata": {
        "id": "jmaMDq_Ibfu8"
      },
      "source": [
        "### Morphological opearations using SimpleITK \n",
        "\n",
        "Example: Creating a peri-tumoral mask for the lesion. Let's say we want a peri-tumoral region around the periphey of the lesion with 6mm width. \n",
        "\n",
        "The spacing of T2W MRI in this example has a spacing of 0.5, There to obtain a peri-tumoral of 6mm width, we would first have to dilate 12 pixels and subtract the dilated image with the original one.  "
      ]
    },
    {
      "cell_type": "code",
      "metadata": {
        "id": "4nP4tadKa7JN"
      },
      "source": [
        "\n",
        "# Dilating 12 pixels wide \n",
        "dilatedls = sitk.BinaryDilate(ls,(12,12,0),sitk.sitkBall)\n",
        "\n",
        "# Obtaining the peri-tumoral region \n",
        "perils = sitk.Subtract(dilatedls,ls)\n",
        "\n",
        "# We try to contain the peri- tumoral mask within the prostate gland\n",
        "perils = sitk.Mask(perils,pm)\n",
        "\n",
        "# Converting to numpy array\n",
        "perilsarr = sitk.GetArrayFromImage(perils)\n",
        "\n",
        "# Obtaining patch from the peri- tumoral mask \n",
        "perilsarrPatch = perilsarr[:,starty:endy,startx:endx]\n",
        "\n",
        "\n",
        "slcno = 8 \n",
        "plt = overlay_mask(imgarrPatch[slcno],[pmarrPatch[slcno],perilsarrPatch[slcno]],[\"lime\",\"yellow\"])\n"
      ],
      "execution_count": null,
      "outputs": []
    },
    {
      "cell_type": "markdown",
      "metadata": {
        "id": "CueANgodiT-V"
      },
      "source": [
        "### Feature extraction using pyradiomics\n",
        "\n",
        "Extracting GLCM features using pyradiomics.\n",
        "For detailed documentation of pyradiomics visit the [Pyradiomics site](https://pyradiomics.readthedocs.io/en/latest/) \n"
      ]
    },
    {
      "cell_type": "code",
      "metadata": {
        "id": "YssmsaAjdPDa"
      },
      "source": [
        "# pyradiomics feature extractor requires some initial parameters to be set\n",
        "\n",
        "params = {}\n",
        "params['normalize'] = True\n",
        "params['binWidth'] = 256\n",
        "params['verbose'] = True\n",
        "\n",
        "# Instantiate the extractor\n",
        "extractor = featureextractor.RadiomicsFeatureExtractor(**params) \n",
        "\n",
        "# First disablign all features and enabling only glcm features\n",
        "extractor.disableAllFeatures()\n",
        "extractor.enableFeatureClassByName('glcm')\n",
        "\n",
        "print(\"Enabled features:\\n\\t\", extractor.enabledFeatures)  \n",
        "\n",
        "print(\"Calculating features\")\n",
        "featureVector = extractor.execute(img, ls)\n",
        "\n",
        "for featureName in featureVector.keys():\n",
        "  print(f\"Computed {featureName}: {featureVector[featureName]}\")"
      ],
      "execution_count": null,
      "outputs": []
    },
    {
      "cell_type": "code",
      "metadata": {
        "id": "y14Il0PcsA9c"
      },
      "source": [
        ""
      ],
      "execution_count": null,
      "outputs": []
    }
  ]
}